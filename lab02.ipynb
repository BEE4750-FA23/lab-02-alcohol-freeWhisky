{
  "cells": [
    {
      "cell_type": "markdown",
      "id": "eadb0540-a941-4a97-8c6a-c21e879b7bab",
      "metadata": {},
      "source": [
        "# BEE 4750 Lab 2: Uncertainty and Monte Carlo"
      ]
    },
    {
      "cell_type": "markdown",
      "id": "fb195d61-6546-4aea-91a6-eea0a6c5ce28",
      "metadata": {},
      "source": [
        "**Name**:Ziqi Wei\n",
        "\n",
        "**ID**:zw698"
      ]
    },
    {
      "cell_type": "markdown",
      "id": "f8759e71-6399-4d6f-b2ae-d8e05d79a4b5",
      "metadata": {},
      "source": [
        "> **Due Date**\n",
        ">\n",
        "> Friday, 9/22/23, 9:00pm\n",
        "\n",
        "## Setup\n",
        "\n",
        "The following code should go at the top of most Julia scripts; it will\n",
        "load the local package environment and install any needed packages. You\n",
        "will see this often and shouldn’t need to touch it."
      ]
    },
    {
      "cell_type": "code",
      "execution_count": 10,
      "id": "ee4795ea",
      "metadata": {},
      "outputs": [
        {
          "name": "stderr",
          "output_type": "stream",
          "text": [
            "\u001b[32m\u001b[1m  Activating\u001b[22m\u001b[39m project at `e:\\Whisky\\2023autumn\\cornell\\BEE4750\\lab-02-alcohol-freeWhisky`\n"
          ]
        }
      ],
      "source": [
        "import Pkg\n",
        "Pkg.activate(\".\")\n",
        "Pkg.instantiate()"
      ]
    },
    {
      "cell_type": "code",
      "execution_count": 11,
      "id": "bc1ca811",
      "metadata": {},
      "outputs": [
        {
          "name": "stderr",
          "output_type": "stream",
          "text": [
            "\u001b[91m\u001b[1mERROR: \u001b[22m\u001b[39mLoadError: InitError: "
          ]
        },
        {
          "name": "stderr",
          "output_type": "stream",
          "text": [
            "UndefVarError: `GR_jll` not defined\n",
            "Stacktrace:\n",
            "  [1] \u001b[0m\u001b[1m__init__\u001b[22m\u001b[0m\u001b[1m(\u001b[22m\u001b[0m\u001b[1m)\u001b[22m\n",
            "\u001b[90m    @\u001b[39m \u001b[35mGR.GRPreferences\u001b[39m \u001b[90mC:\\Users\\Whisky\\.julia\\packages\\GR\\jehu0\\src\\\u001b[39m\u001b[90m\u001b[4mpreferences.jl:64\u001b[24m\u001b[39m\n",
            "  [2] \u001b[0m\u001b[1mregister_restored_modules\u001b[22m\u001b[0m\u001b[1m(\u001b[22m\u001b[90msv\u001b[39m::\u001b[0mCore.SimpleVector, \u001b[90mpkg\u001b[39m::\u001b[0mBase.PkgId, \u001b[90mpath\u001b[39m::\u001b[0mString\u001b[0m\u001b[1m)\u001b[22m\n",
            "\u001b[90m    @\u001b[39m \u001b[90mBase\u001b[39m \u001b[90m.\\\u001b[39m\u001b[90m\u001b[4mloading.jl:1115\u001b[24m\u001b[39m\n",
            "  [3] \u001b[0m\u001b[1m_include_from_serialized\u001b[22m\u001b[0m\u001b[1m(\u001b[22m\u001b[90mpkg\u001b[39m::\u001b[0mBase.PkgId, \u001b[90mpath\u001b[39m::\u001b[0mString, \u001b[90mocachepath\u001b[39m::\u001b[0mString, \u001b[90mdepmods\u001b[39m::\u001b[0mVector\u001b[90m{Any}\u001b[39m\u001b[0m\u001b[1m)\u001b[22m\n",
            "\u001b[90m    @\u001b[39m \u001b[90mBase\u001b[39m \u001b[90m.\\\u001b[39m\u001b[90m\u001b[4mloading.jl:1061\u001b[24m\u001b[39m\n",
            "  [4] \u001b[0m\u001b[1m_require_search_from_serialized\u001b[22m\u001b[0m\u001b[1m(\u001b[22m\u001b[90mpkg\u001b[39m::\u001b[0mBase.PkgId, \u001b[90msourcepath\u001b[39m::\u001b[0mString, \u001b[90mbuild_id\u001b[39m::\u001b[0mUInt128\u001b[0m\u001b[1m)\u001b[22m\n",
            "\u001b[90m    @\u001b[39m \u001b[90mBase\u001b[39m \u001b[90m.\\\u001b[39m\u001b[90m\u001b[4mloading.jl:1506\u001b[24m\u001b[39m\n",
            "  [5] \u001b[0m\u001b[1m_require\u001b[22m\u001b[0m\u001b[1m(\u001b[22m\u001b[90mpkg\u001b[39m::\u001b[0mBase.PkgId, \u001b[90menv\u001b[39m::\u001b[0mString\u001b[0m\u001b[1m)\u001b[22m\n",
            "\u001b[90m    @\u001b[39m \u001b[90mBase\u001b[39m \u001b[90m.\\\u001b[39m\u001b[90m\u001b[4mloading.jl:1783\u001b[24m\u001b[39m\n",
            "  [6] \u001b[0m\u001b[1m_require_prelocked\u001b[22m\u001b[0m\u001b[1m(\u001b[22m\u001b[90muuidkey\u001b[39m::\u001b[0mBase.PkgId, \u001b[90menv\u001b[39m::\u001b[0mString\u001b[0m\u001b[1m)\u001b[22m\n",
            "\u001b[90m    @\u001b[39m \u001b[90mBase\u001b[39m \u001b[90m.\\\u001b[39m\u001b[90m\u001b[4mloading.jl:1660\u001b[24m\u001b[39m\n",
            "  [7] \u001b[0m\u001b[1mmacro expansion\u001b[22m\n",
            "\u001b[90m    @\u001b[39m \u001b[90m.\\\u001b[39m\u001b[90m\u001b[4mloading.jl:1648\u001b[24m\u001b[39m\u001b[90m [inlined]\u001b[39m\n",
            "  [8] \u001b[0m\u001b[1mmacro expansion\u001b[22m\n",
            "\u001b[90m    @\u001b[39m \u001b[90m.\\\u001b[39m\u001b[90m\u001b[4mlock.jl:267\u001b[24m\u001b[39m\u001b[90m [inlined]\u001b[39m\n",
            "  [9] \u001b[0m\u001b[1mrequire\u001b[22m\u001b[0m\u001b[1m(\u001b[22m\u001b[90minto\u001b[39m::\u001b[0mModule, \u001b[90mmod\u001b[39m::\u001b[0mSymbol\u001b[0m\u001b[1m)\u001b[22m\n",
            "\u001b[90m    @\u001b[39m \u001b[90mBase\u001b[39m \u001b[90m.\\\u001b[39m\u001b[90m\u001b[4mloading.jl:1611\u001b[24m\u001b[39m\n",
            " [10] top-level scope\n",
            "\u001b[90m    @\u001b[39m \u001b[90mC:\\Users\\Whisky\\.julia\\packages\\Plots\\3BCH5\\src\\\u001b[39m\u001b[90m\u001b[4mbackends.jl:402\u001b[24m\u001b[39m\n",
            " [11] \u001b[0m\u001b[1meval\u001b[22m\n",
            "\u001b[90m    @\u001b[39m \u001b[90m.\\\u001b[39m\u001b[90m\u001b[4mboot.jl:370\u001b[24m\u001b[39m\u001b[90m [inlined]\u001b[39m\n",
            " [12] \u001b[0m\u001b[1m_initialize_backend\u001b[22m\u001b[0m\u001b[1m(\u001b[22m\u001b[90mpkg\u001b[39m::\u001b[0mPlots.GRBackend\u001b[0m\u001b[1m)\u001b[22m\n",
            "\u001b[90m    @\u001b[39m \u001b[36mPlots\u001b[39m \u001b[90mC:\\Users\\Whisky\\.julia\\packages\\Plots\\3BCH5\\src\\\u001b[39m\u001b[90m\u001b[4mbackends.jl:401\u001b[24m\u001b[39m\n",
            " [13] \u001b[0m\u001b[1mbackend\u001b[22m\u001b[0m\u001b[1m(\u001b[22m\u001b[90mpkg\u001b[39m::\u001b[0mPlots.GRBackend\u001b[0m\u001b[1m)\u001b[22m\n",
            "\u001b[90m    @\u001b[39m \u001b[36mPlots\u001b[39m \u001b[90mC:\\Users\\Whisky\\.julia\\packages\\Plots\\3BCH5\\src\\\u001b[39m\u001b[90m\u001b[4mbackends.jl:266\u001b[24m\u001b[39m\n",
            " [14] \u001b[0m\u001b[1mbackend\u001b[22m\u001b[0m\u001b[1m(\u001b[22m\u001b[90msym\u001b[39m::\u001b[0mSymbol\u001b[0m\u001b[1m)\u001b[22m\n",
            "\u001b[90m    @\u001b[39m \u001b[36mPlots\u001b[39m \u001b[90mC:\\Users\\Whisky\\.julia\\packages\\Plots\\3BCH5\\src\\\u001b[39m\u001b[90m\u001b[4mbackends.jl:276\u001b[24m\u001b[39m\n",
            " [15] \u001b[0m\u001b[1mload_default_backend\u001b[22m\u001b[0m\u001b[1m(\u001b[22m\u001b[0m\u001b[1m)\u001b[22m\n",
            "\u001b[90m    @\u001b[39m \u001b[36mPlots\u001b[39m \u001b[90mC:\\Users\\Whisky\\.julia\\packages\\Plots\\3BCH5\\src\\\u001b[39m\u001b[90m\u001b[4mbackends.jl:207\u001b[24m\u001b[39m\n",
            " [16] \u001b[0m\u001b[1mbackend\u001b[22m\u001b[0m\u001b[1m(\u001b[22m\u001b[0m\u001b[1m)\u001b[22m\n",
            "\u001b[90m    @\u001b[39m \u001b[36mPlots\u001b[39m \u001b[90mC:\\Users\\Whisky\\.julia\\packages\\Plots\\3BCH5\\src\\\u001b[39m\u001b[90m\u001b[4mbackends.jl:254\u001b[24m\u001b[39m\n",
            " [17] top-level scope\n",
            "\u001b[90m    @\u001b[39m \u001b[90mC:\\Users\\Whisky\\.julia\\packages\\Plots\\3BCH5\\src\\\u001b[39m\u001b[90m\u001b[4minit.jl:83\u001b[24m\u001b[39m\n",
            " [18] \u001b[0m\u001b[1minclude\u001b[22m\u001b[0m\u001b[1m(\u001b[22m\u001b[90mmod\u001b[39m::\u001b[0mModule, \u001b[90m_path\u001b[39m::\u001b[0mString\u001b[0m\u001b[1m)\u001b[22m\n",
            "\u001b[90m    @\u001b[39m \u001b[90mBase\u001b[39m \u001b[90m.\\\u001b[39m\u001b[90m\u001b[4mBase.jl:457\u001b[24m\u001b[39m\n",
            " [19] \u001b[0m\u001b[1minclude\u001b[22m\u001b[0m\u001b[1m(\u001b[22m\u001b[90mx\u001b[39m::\u001b[0mString\u001b[0m\u001b[1m)\u001b[22m\n",
            "\u001b[90m    @\u001b[39m \u001b[36mPlots\u001b[39m \u001b[90mC:\\Users\\Whisky\\.julia\\packages\\Plots\\3BCH5\\src\\\u001b[39m\u001b[90m\u001b[4mPlots.jl:1\u001b[24m\u001b[39m\n",
            " [20] top-level scope\n",
            "\u001b[90m    @\u001b[39m \u001b[90mC:\\Users\\Whisky\\.julia\\packages\\Plots\\3BCH5\\src\\\u001b[39m\u001b[90m\u001b[4mPlots.jl:176\u001b[24m\u001b[39m\n",
            " [21] \u001b[0m\u001b[1minclude\u001b[22m\n",
            "\u001b[90m    @\u001b[39m \u001b[90m.\\\u001b[39m\u001b[90m\u001b[4mBase.jl:457\u001b[24m\u001b[39m\u001b[90m [inlined]\u001b[39m\n",
            " [22] \u001b[0m\u001b[1minclude_package_for_output\u001b[22m\u001b[0m\u001b[1m(\u001b[22m\u001b[90mpkg\u001b[39m::\u001b[0mBase.PkgId, \u001b[90minput\u001b[39m::\u001b[0mString, \u001b[90mdepot_path\u001b[39m::\u001b[0mVector\u001b[90m{String}\u001b[39m, \u001b[90mdl_load_path\u001b[39m::\u001b[0mVector\u001b[90m{String}\u001b[39m, \u001b[90mload_path\u001b[39m::\u001b[0mVector\u001b[90m{String}\u001b[39m, \u001b[90mconcrete_deps\u001b[39m::\u001b[0mVector\u001b[90m{Pair{Base.PkgId, UInt128}}\u001b[39m, \u001b[90msource\u001b[39m::\u001b[0mString\u001b[0m\u001b[1m)\u001b[22m\n",
            "\u001b[90m    @\u001b[39m \u001b[90mBase\u001b[39m \u001b[90m.\\\u001b[39m\u001b[90m\u001b[4mloading.jl:2049\u001b[24m\u001b[39m\n",
            " [23] top-level scope\n",
            "\u001b[90m    @\u001b[39m \u001b[90m\u001b[4mstdin:3\u001b[24m\u001b[39m\n",
            "during initialization of module GRPreferences\n",
            "in expression starting at C:\\Users\\Whisky\\.julia\\packages\\Plots\\3BCH5\\src\\init.jl:83\n",
            "in expression starting at C:\\Users\\Whisky\\.julia\\packages\\Plots\\3BCH5\\src\\Plots.jl:1\n",
            "in expression starting at stdin:3\n"
          ]
        },
        {
          "ename": "ErrorException",
          "evalue": "Failed to precompile Plots [91a5bcdd-55d7-5caf-9e0b-520d859cae80] to \"C:\\\\Users\\\\Whisky\\\\.julia\\\\compiled\\\\v1.9\\\\Plots\\\\jl_F924.tmp\".",
          "output_type": "error",
          "traceback": [
            "Failed to precompile Plots [91a5bcdd-55d7-5caf-9e0b-520d859cae80] to \"C:\\\\Users\\\\Whisky\\\\.julia\\\\compiled\\\\v1.9\\\\Plots\\\\jl_F924.tmp\".\n",
            "\n",
            "Stacktrace:\n",
            "  [1] error(s::String)\n",
            "    @ Base .\\error.jl:35\n",
            "  [2] compilecache(pkg::Base.PkgId, path::String, internal_stderr::IO, internal_stdout::IO, keep_loaded_modules::Bool)\n",
            "    @ Base .\\loading.jl:2300\n",
            "  [3] compilecache\n",
            "    @ .\\loading.jl:2167 [inlined]\n",
            "  [4] _require(pkg::Base.PkgId, env::String)\n",
            "    @ Base .\\loading.jl:1805\n",
            "  [5] _require_prelocked(uuidkey::Base.PkgId, env::String)\n",
            "    @ Base .\\loading.jl:1660\n",
            "  [6] macro expansion\n",
            "    @ .\\loading.jl:1648 [inlined]\n",
            "  [7] macro expansion\n",
            "    @ .\\lock.jl:267 [inlined]\n",
            "  [8] require(into::Module, mod::Symbol)\n",
            "    @ Base .\\loading.jl:1611\n",
            "  [9] eval\n",
            "    @ .\\boot.jl:370 [inlined]\n",
            " [10] include_string(mapexpr::typeof(REPL.softscope), mod::Module, code::String, filename::String)\n",
            "    @ Base .\\loading.jl:1903\n",
            " [11] #invokelatest#2\n",
            "    @ .\\essentials.jl:819 [inlined]\n",
            " [12] invokelatest\n",
            "    @ .\\essentials.jl:816 [inlined]\n",
            " [13] (::VSCodeServer.var\"#202#203\"{VSCodeServer.NotebookRunCellArguments, String})()\n",
            "    @ VSCodeServer c:\\Users\\Whisky\\.vscode\\extensions\\julialang.language-julia-1.52.2\\scripts\\packages\\VSCodeServer\\src\\serve_notebook.jl:19\n",
            " [14] withpath(f::VSCodeServer.var\"#202#203\"{VSCodeServer.NotebookRunCellArguments, String}, path::String)\n",
            "    @ VSCodeServer c:\\Users\\Whisky\\.vscode\\extensions\\julialang.language-julia-1.52.2\\scripts\\packages\\VSCodeServer\\src\\repl.jl:274\n",
            " [15] notebook_runcell_request(conn::VSCodeServer.JSONRPC.JSONRPCEndpoint{Base.PipeEndpoint, Base.PipeEndpoint}, params::VSCodeServer.NotebookRunCellArguments)\n",
            "    @ VSCodeServer c:\\Users\\Whisky\\.vscode\\extensions\\julialang.language-julia-1.52.2\\scripts\\packages\\VSCodeServer\\src\\serve_notebook.jl:13\n",
            " [16] dispatch_msg(x::VSCodeServer.JSONRPC.JSONRPCEndpoint{Base.PipeEndpoint, Base.PipeEndpoint}, dispatcher::VSCodeServer.JSONRPC.MsgDispatcher, msg::Dict{String, Any})\n",
            "    @ VSCodeServer.JSONRPC c:\\Users\\Whisky\\.vscode\\extensions\\julialang.language-julia-1.52.2\\scripts\\packages\\JSONRPC\\src\\typed.jl:67\n",
            " [17] serve_notebook(pipename::String, outputchannel_logger::Base.CoreLogging.SimpleLogger; crashreporting_pipename::String)\n",
            "    @ VSCodeServer c:\\Users\\Whisky\\.vscode\\extensions\\julialang.language-julia-1.52.2\\scripts\\packages\\VSCodeServer\\src\\serve_notebook.jl:139\n",
            " [18] top-level scope\n",
            "    @ c:\\Users\\Whisky\\.vscode\\extensions\\julialang.language-julia-1.52.2\\scripts\\notebook\\notebook.jl:32"
          ]
        }
      ],
      "source": [
        "using GR\n",
        "using Random # random number generation\n",
        "using Distributions # probability distributions and interface\n",
        "using Statistics # basic statistical functions, including mean\n",
        "using Plots # plotting"
      ]
    },
    {
      "cell_type": "markdown",
      "id": "b8d1c920-78c4-43f7-ad4b-c6375a31d20e",
      "metadata": {},
      "source": [
        "## Introduction\n",
        "\n",
        "In this lab, you will use Monte Carlo analysis to estimate the expected\n",
        "winnings for a couple of different games of chance.\n",
        "\n",
        "Monte Carlo methods involve the simulation of random numbers from\n",
        "probability distributions. In an environmental context, we often\n",
        "propagate these random numbers through some more complicated model and\n",
        "then compute a resulting statistic which is relevant for assessing\n",
        "performance or risk, such as an average outcome or a particular\n",
        "quantile.\n",
        "\n",
        "Julia provides a common interface for probability distributions with the\n",
        "[`Distributions.jl`\n",
        "package](https://juliastats.org/Distributions.jl/stable/). The basic\n",
        "workflow for sampling from a distribution is:\n",
        "\n",
        "1.  Set up the distribution. The specific syntax depends on the\n",
        "    distribution and what parameters are required, but the general call\n",
        "    is the similar. For a normal distribution or a uniform distribution,\n",
        "    the syntax is\n",
        "\n",
        "    ``` julia\n",
        "    # you don't have to name this \"normal_distribution\"\n",
        "    # μ is the mean and σ is the standard deviation\n",
        "    normal_distribution = Normal(μ, σ)\n",
        "    # a is the upper bound and b is the lower bound; these can be set to +Inf or -Inf for an unbounded distribution in one or both directions.\n",
        "    uniform_distribution = Uniform(a, b)\n",
        "    ```\n",
        "\n",
        "    There are lots of both\n",
        "    [univariate](https://juliastats.org/Distributions.jl/stable/univariate/#Index)\n",
        "    and\n",
        "    [multivariate](https://juliastats.org/Distributions.jl/stable/multivariate/)\n",
        "    distributions, as well as the ability to create your own, but we\n",
        "    won’t do anything too exotic here.\n",
        "\n",
        "2.  Draw samples. This uses the `rand()` command (which, when used\n",
        "    without a distribution, just samples uniformly from the interval\n",
        "    $[0, 1]$.) For example, to sample from our normal distribution\n",
        "    above:\n",
        "\n",
        "    ``` julia\n",
        "    # draw n samples\n",
        "    rand(normal_distribution, n)\n",
        "    ```\n",
        "\n",
        "Putting this together, let’s say that we wanted to simulate 100\n",
        "six-sided dice rolls. We could use a [Discrete Uniform\n",
        "distribution](https://juliastats.org/Distributions.jl/stable/univariate/#Distributions.DiscreteUniform)."
      ]
    },
    {
      "cell_type": "code",
      "execution_count": 12,
      "id": "21a7694d",
      "metadata": {},
      "outputs": [
        {
          "data": {
            "text/plain": [
              "100-element Vector{Int64}:\n",
              " 6\n",
              " 3\n",
              " 3\n",
              " 4\n",
              " 2\n",
              " 6\n",
              " 4\n",
              " 5\n",
              " 6\n",
              " 4\n",
              " ⋮\n",
              " 3\n",
              " 6\n",
              " 2\n",
              " 5\n",
              " 4\n",
              " 5\n",
              " 3\n",
              " 2\n",
              " 4"
            ]
          },
          "metadata": {},
          "output_type": "display_data"
        }
      ],
      "source": [
        "dice_dist = DiscreteUniform(1, 6) # can generate any integer between 1 and 6\n",
        "dice_rolls = rand(dice_dist, 100) # simulate rolls"
      ]
    },
    {
      "cell_type": "markdown",
      "id": "ebe22457-c336-45ab-a0a0-451555fa0f0c",
      "metadata": {},
      "source": [
        "And then we can plot a histogram of these rolls:"
      ]
    },
    {
      "cell_type": "code",
      "execution_count": 13,
      "id": "d57de3c1",
      "metadata": {},
      "outputs": [
        {
          "name": "stdout",
          "output_type": "stream",
          "text": [
            "Invalid keyword: legend\n",
            "Invalid keyword: bins\n"
          ]
        },
        {
          "ename": "UndefRefError",
          "evalue": "UndefRefError: access to undefined reference",
          "output_type": "error",
          "traceback": [
            "UndefRefError: access to undefined reference\n",
            "\n",
            "Stacktrace:\n",
            "  [1] getproperty\n",
            "    @ .\\Base.jl:37 [inlined]\n",
            "  [2] getindex\n",
            "    @ .\\refvalue.jl:56 [inlined]\n",
            "  [3] load_libs(always::Bool)\n",
            "    @ GR C:\\Users\\Whisky\\.julia\\packages\\GR\\jehu0\\src\\funcptrs.jl:38\n",
            "  [4] init(always::Bool)\n",
            "    @ GR C:\\Users\\Whisky\\.julia\\packages\\GR\\jehu0\\src\\GR.jl:305\n",
            "  [5] init\n",
            "    @ C:\\Users\\Whisky\\.julia\\packages\\GR\\jehu0\\src\\GR.jl:304 [inlined]\n",
            "  [6] plot_data(flag::Bool, plt::GR.jlgr.PlotObject)\n",
            "    @ GR.jlgr C:\\Users\\Whisky\\.julia\\packages\\GR\\jehu0\\src\\jlgr.jl:1177\n",
            "  [7] plot_data (repeats 2 times)\n",
            "    @ C:\\Users\\Whisky\\.julia\\packages\\GR\\jehu0\\src\\jlgr.jl:1173 [inlined]\n",
            "  [8] histogram(x::Vector{Int64}, plt::GR.jlgr.PlotObject; kv::Base.Pairs{Symbol, Integer, Tuple{Symbol, Symbol}, NamedTuple{(:legend, :bins), Tuple{Bool, Int64}}})\n",
            "    @ GR.jlgr C:\\Users\\Whisky\\.julia\\packages\\GR\\jehu0\\src\\jlgr.jl:2001\n",
            "  [9] histogram\n",
            "    @ C:\\Users\\Whisky\\.julia\\packages\\GR\\jehu0\\src\\jlgr.jl:1994 [inlined]\n",
            " [10] top-level scope\n",
            "    @ e:\\Whisky\\2023autumn\\cornell\\BEE4750\\lab-02-alcohol-freeWhisky\\lab02.ipynb:1"
          ]
        }
      ],
      "source": [
        "histogram(dice_rolls, legend=:false, bins=6)\n",
        "ylabel!(\"Count\")\n",
        "xlabel!(\"Dice Value\")"
      ]
    },
    {
      "cell_type": "markdown",
      "id": "9e2af7c7-78f9-4d13-b799-5be1e8781f4b",
      "metadata": {},
      "source": [
        "**Remember to**:\n",
        "\n",
        "-   Evaluate all of your code cells, in order (using a `Run All`\n",
        "    command). This will make sure all output is visible and that the\n",
        "    code cells were evaluated in the correct order.\n",
        "-   Tag each of the problems when you submit to Gradescope; a 10%\n",
        "    penalty will be deducted if this is not done."
      ]
    },
    {
      "cell_type": "markdown",
      "id": "3bd5fdc8-2dd6-47e5-b9fe-391bb9ea51ba",
      "metadata": {},
      "source": [
        "## Exercises (10 points)\n",
        "\n",
        "In Problem 1, you will compute the probability of getting a specific\n",
        "combination of multiple dice rolls. The focus will be on understanding\n",
        "how the Monte Carlo estimate changes based on the number of simulations.\n",
        "\n",
        "In Problem 2, we will implement the culmination of every episode of the\n",
        "long-running game show [The Price Is\n",
        "Right](https://en.wikipedia.org/wiki/The_Price_Is_Right): the\n",
        "[Showcase](https://en.wikipedia.org/wiki/The_Price_Is_Right#Showcase).\n",
        "You will be asked to make a plot of expected winnings by bid for a\n",
        "particular distribution of prize values.\n",
        "\n",
        "You should always start any computing with random numbers by setting a\n",
        "“seed,” which controls the sequence of numbers which are generated\n",
        "(since these are not *really* random, just “pseudorandom”). In Julia, we\n",
        "do this with the `Random.seed!()` function.\n",
        "\n",
        "``` julia\n",
        "Random.seed!(1)\n",
        "```\n",
        "\n",
        "    TaskLocalRNG()\n",
        "\n",
        "It doesn’t matter what seed you set, though different seeds might result\n",
        "in slightly different values. But setting a seed means every time your\n",
        "notebook is run, the answer will be the same.\n",
        "\n",
        "> **Seeds and Reproducing Solutions**\n",
        ">\n",
        "> If you don’t re-run your code in the same order or if you re-run the\n",
        "> same cell repeatedly, you will not get the same solution. If you’re\n",
        "> working on a specific problem, you might want to re-use\n",
        "> `Random.seed()` near any block of code you want to re-evaluate\n",
        "> repeatedly."
      ]
    },
    {
      "cell_type": "markdown",
      "id": "c9cbc8d5-2cd1-4315-ba44-98fb8e7065f5",
      "metadata": {},
      "source": [
        "### Problem 1 (5 points)\n",
        "\n",
        "We want to know the probability of getting at least an 11 from rolling\n",
        "three fair, six-sided dice (this is actually an old Italian game called\n",
        "*passadieci*, which was analyzed by Galileo as one of the first examples\n",
        "of a rigorous study of probability)."
      ]
    },
    {
      "cell_type": "markdown",
      "id": "90277c08-7d25-49ed-a869-3552972dfaa5",
      "metadata": {},
      "source": [
        "#### Problem 1.1 (1 point)\n",
        "\n",
        "Write a function called `passadieci()` to simulate this game, which will\n",
        "take as an input the number of realizations and output a vector of the\n",
        "sum of the three dice rolls for each realization."
      ]
    },
    {
      "cell_type": "code",
      "execution_count": 14,
      "id": "b24eeeec",
      "metadata": {},
      "outputs": [
        {
          "data": {
            "text/plain": [
              "passadieci (generic function with 1 method)"
            ]
          },
          "metadata": {},
          "output_type": "display_data"
        }
      ],
      "source": [
        "function passadieci(n)\n",
        "    total = zeros(n)\n",
        "    for i in 1: n\n",
        "        dice_dist = DiscreteUniform(1, 6) \n",
        "        dice_rolls = rand(dice_dist, 3)\n",
        "        total[i] = sum(dice_rolls)\n",
        "    end\n",
        "    return total\n",
        "end\n"
      ]
    },
    {
      "cell_type": "markdown",
      "id": "8d995585-1ba3-440b-9e5f-2ab8e51fedcc",
      "metadata": {},
      "source": [
        "### Problem 1.2 (2 points)\n",
        "\n",
        "Generate 5,000 simulations of the game using your `passadieci()`\n",
        "function. Plot how the computed probability of winning the game changes\n",
        "as the number of simulations increases (you can do this by computing the\n",
        "frequency of wins for each additional simulation)."
      ]
    },
    {
      "cell_type": "code",
      "execution_count": 15,
      "id": "7d0a9628",
      "metadata": {},
      "outputs": [
        {
          "ename": "UndefRefError",
          "evalue": "UndefRefError: access to undefined reference",
          "output_type": "error",
          "traceback": [
            "UndefRefError: access to undefined reference\n",
            "\n",
            "Stacktrace:\n",
            " [1] getproperty\n",
            "   @ .\\Base.jl:37 [inlined]\n",
            " [2] getindex\n",
            "   @ .\\refvalue.jl:56 [inlined]\n",
            " [3] load_libs(always::Bool)\n",
            "   @ GR C:\\Users\\Whisky\\.julia\\packages\\GR\\jehu0\\src\\funcptrs.jl:38\n",
            " [4] init(always::Bool)\n",
            "   @ GR C:\\Users\\Whisky\\.julia\\packages\\GR\\jehu0\\src\\GR.jl:305\n",
            " [5] init\n",
            "   @ C:\\Users\\Whisky\\.julia\\packages\\GR\\jehu0\\src\\GR.jl:304 [inlined]\n",
            " [6] plot_data(flag::Bool, plt::GR.jlgr.PlotObject)\n",
            "   @ GR.jlgr C:\\Users\\Whisky\\.julia\\packages\\GR\\jehu0\\src\\jlgr.jl:1177\n",
            " [7] plot_data (repeats 2 times)\n",
            "   @ C:\\Users\\Whisky\\.julia\\packages\\GR\\jehu0\\src\\jlgr.jl:1173 [inlined]\n",
            " [8] plot(::UnitRange{Int64}, ::Vararg{Union{AbstractString, Function, AbstractVector, AbstractMatrix}}; kv::Base.Pairs{Symbol, String, Tuple{Symbol, Symbol, Symbol}, NamedTuple{(:title, :xlabel, :ylabel), Tuple{String, String, String}}})\n",
            "   @ GR.jlgr C:\\Users\\Whisky\\.julia\\packages\\GR\\jehu0\\src\\jlgr.jl:1746\n",
            " [9] top-level scope\n",
            "   @ e:\\Whisky\\2023autumn\\cornell\\BEE4750\\lab-02-alcohol-freeWhisky\\lab02.ipynb:13"
          ]
        }
      ],
      "source": [
        "trial = passadieci(5000)\n",
        "p = zeros(5000)\n",
        "count = 0\n",
        "for i in 1: 5000\n",
        "    if trial[i] >= 11\n",
        "        count += 1\n",
        "    end\n",
        "    p[i] = count / i\n",
        "end\n",
        "\n",
        "x = 1:5000\n",
        "y = p\n",
        "plot(x, y, title = \"possibility of winning\", xlabel = \"numbers of simulations\", ylabel = \"computed possibility\" )"
      ]
    },
    {
      "cell_type": "markdown",
      "id": "ebb17e3b-1a0a-45af-bed5-a1b08311a3cb",
      "metadata": {},
      "source": [
        "### Problem 1.3 (2 point)\n",
        "\n",
        "Based on your plot from Problem 1.2, how many simulations were needed\n",
        "for the win probability estimate to converge? What did you notice from\n",
        "your plot about the estimates prior to convergence?"
      ]
    },
    {
      "cell_type": "markdown",
      "id": "cd02838a-ff78-410a-bd55-42fcd0738ab7",
      "metadata": {},
      "source": [
        "## Problem 2 (5 points)\n",
        "\n",
        "The Showcase is the final round of every episode of The Price is Right,\n",
        "matching the two big winners from the episode. Each contestant is shown\n",
        "a “showcase” of prizes, which are usually some combination of a trip, a\n",
        "motor vehicle, some furniture, and maybe some other stuff. They then\n",
        "each have to make a bid on the retail price of the showcase. The rules\n",
        "are:\n",
        "\n",
        "-   an overbid is an automatic loss;\n",
        "-   the contest who gets closest to the retail price wins their\n",
        "    showcase;\n",
        "-   if a contestant gets within \\$250 of the retail price and is closer\n",
        "    than their opponent, they win both showcases.\n",
        "\n",
        "Your goal is to find a wager which maximizes your expected winnings,\n",
        "which we may as well call utility, based on your assessment of the\n",
        "probability of your showcase retail price. We’ll assume that the\n",
        "distribution of all showcases offered by the show is given as truncated\n",
        "normal distribution, which means a normal distribution which has an\n",
        "upper and/or lower bound. `Distributions.jl` makes it easy to specify\n",
        "truncations on any distribution, not just normal distributions. For\n",
        "example, we’ll use this distribution for the showcase values:\n",
        "\n",
        "``` julia\n",
        "showcase_dist = truncated(Normal(31000, 4500), lower=5000, upper=42000)\n",
        "```\n",
        "\n",
        "    Truncated(Normal{Float64}(μ=31000.0, σ=4500.0); lower=5000.0, upper=42000.0)"
      ]
    },
    {
      "cell_type": "markdown",
      "id": "0d6b2bc7-488f-4f21-b3ed-d609fa11b98b",
      "metadata": {},
      "source": [
        "#### Problem 2.1 (3 points)\n",
        "\n",
        "Write a function `showcase()` which takes in a bid value and uses Monte\n",
        "Carlo simulation to compute the expected value of the winnings. Make the\n",
        "following assumptions about your expected winnings if you don’t overbid:\n",
        "\n",
        "-   If you win both showcases, the value is the double of the single\n",
        "    showcase value.\n",
        "-   If you did not win both showcases but bid under the showcase value,\n",
        "    the probability of being outbid increases linearly as the distance\n",
        "    between your bid and the value increases (in other words, if you bid\n",
        "    the exact value, you win with probability 1, and if you bid \\$0, you\n",
        "    win with probability 0).\n",
        "\n",
        "How did you decide how many samples to use within the function?"
      ]
    },
    {
      "cell_type": "code",
      "execution_count": 16,
      "id": "6a3d9635",
      "metadata": {},
      "outputs": [
        {
          "ename": "ErrorException",
          "evalue": "syntax: \"if\" at e:\\Whisky\\2023autumn\\cornell\\BEE4750\\lab-02-alcohol-freeWhisky\\lab02.ipynb:14 expected \"end\", got \"else\"",
          "output_type": "error",
          "traceback": [
            "syntax: \"if\" at e:\\Whisky\\2023autumn\\cornell\\BEE4750\\lab-02-alcohol-freeWhisky\\lab02.ipynb:14 expected \"end\", got \"else\"\n",
            "\n",
            "Stacktrace:\n",
            " [1] top-level scope\n",
            "   @ e:\\Whisky\\2023autumn\\cornell\\BEE4750\\lab-02-alcohol-freeWhisky\\lab02.ipynb:17"
          ]
        }
      ],
      "source": [
        "showcase_dist = truncated(Normal(31000, 4500), lower=5000, upper=42000)\n",
        "\n",
        "function showcase(bidvalue)\n",
        "    expvalue = zeros[10000]\n",
        "    value = rand(showcase_dist, 10000)\n",
        "    for i in 1: 10000\n",
        "        if bidvalue > value[i] \n",
        "            expvalue[i] = 0\n",
        "        else\n",
        "            difference = value[i] - bidvalue\n",
        "            p = bidvalue / value[i]\n",
        "            if difference < 250\n",
        "                oppbid = rand(showcase_dist, 1)\n",
        "                if (oppbid < value[i]) && (oppbid > bidvalue)\n",
        "                    expvalue[i] = 0\n",
        "                else expvalue[i] = value[i] * 2\n",
        "            else expvalue[i] = value[i] * p\n",
        "            end\n",
        "        end\n",
        "    end\n",
        "    exp = sum(expvalue) / 10000\n",
        "    return exp\n",
        "end\n",
        "\n"
      ]
    },
    {
      "cell_type": "markdown",
      "id": "2da77b59-845e-4579-9ed0-82f1f91c8edc",
      "metadata": {},
      "source": [
        "#### Problem 2.2 (2 points)\n",
        "\n",
        "Plot the expected winnings for bids ranging from \\$0 to \\$42,000. What\n",
        "do you notice?"
      ]
    },
    {
      "cell_type": "code",
      "execution_count": 17,
      "id": "f2586588",
      "metadata": {},
      "outputs": [
        {
          "ename": "MethodError",
          "evalue": "MethodError: no method matching getindex(::typeof(zeros), ::Int64)",
          "output_type": "error",
          "traceback": [
            "MethodError: no method matching getindex(::typeof(zeros), ::Int64)\n",
            "\n",
            "Stacktrace:\n",
            " [1] top-level scope\n",
            "   @ e:\\Whisky\\2023autumn\\cornell\\BEE4750\\lab-02-alcohol-freeWhisky\\lab02.ipynb:1"
          ]
        }
      ],
      "source": [
        "exp = zeros[42001]\n",
        "for i in 1: 42001\n",
        "    exp[i] = showcase(i - 1)\n",
        "end\n",
        "\n",
        "x = [0, 42000]\n",
        "y = exp\n",
        "plot(x, y, title = \"expected value\", xlabel = \"bid\", ylabel = \"expected value\" )\n",
        "\n",
        "\n"
      ]
    },
    {
      "cell_type": "markdown",
      "id": "e680ea2d-d6ba-4a78-b829-e13d058fee3c",
      "metadata": {},
      "source": [
        "## References\n",
        "\n",
        "Put any consulted sources here, including classmates you worked with/who\n",
        "helped you."
      ]
    },
    {
      "cell_type": "code",
      "execution_count": 18,
      "id": "3141d995",
      "metadata": {},
      "outputs": [],
      "source": []
    }
  ],
  "metadata": {
    "kernelspec": {
      "display_name": "Julia 1.9.3",
      "language": "julia",
      "name": "julia-1.9"
    },
    "language_info": {
      "file_extension": ".jl",
      "mimetype": "application/julia",
      "name": "julia",
      "version": "1.9.3"
    }
  },
  "nbformat": 4,
  "nbformat_minor": 5
}
